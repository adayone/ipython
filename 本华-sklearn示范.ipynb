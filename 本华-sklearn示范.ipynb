{
 "metadata": {
  "name": ""
 },
 "nbformat": 3,
 "nbformat_minor": 0,
 "worksheets": [
  {
   "cells": [
    {
     "cell_type": "code",
     "collapsed": false,
     "input": [
      "import pandas\n",
      "import numpy  as np\n",
      "%matplotlib inline"
     ],
     "language": "python",
     "metadata": {},
     "outputs": [],
     "prompt_number": 11
    },
    {
     "cell_type": "markdown",
     "metadata": {},
     "source": [
      "# load data"
     ]
    },
    {
     "cell_type": "code",
     "collapsed": false,
     "input": [
      "trainset = pandas.read_csv(r\"/Users/haoyuanhu/Project/tmall-com/train.csv\", header=None)\n",
      "labels = pandas.read_csv(r\"/Users/haoyuanhu/Project/tmall-com//trainLabels.csv\", header=None)\n",
      "testset = pandas.read_csv(r\"/Users/haoyuanhu/Project/tmall-com//test.csv\", header=None)"
     ],
     "language": "python",
     "metadata": {},
     "outputs": [],
     "prompt_number": 10
    },
    {
     "cell_type": "code",
     "collapsed": false,
     "input": [
      "trainset.head()\n"
     ],
     "language": "python",
     "metadata": {},
     "outputs": [
      {
       "html": [
        "<div style=\"max-height:1000px;max-width:1500px;overflow:auto;\">\n",
        "<table border=\"1\" class=\"dataframe\">\n",
        "  <thead>\n",
        "    <tr style=\"text-align: right;\">\n",
        "      <th></th>\n",
        "      <th>0</th>\n",
        "      <th>1</th>\n",
        "      <th>2</th>\n",
        "      <th>3</th>\n",
        "      <th>4</th>\n",
        "      <th>5</th>\n",
        "      <th>6</th>\n",
        "      <th>7</th>\n",
        "      <th>8</th>\n",
        "      <th>9</th>\n",
        "      <th>10</th>\n",
        "      <th>11</th>\n",
        "      <th>12</th>\n",
        "      <th>13</th>\n",
        "      <th>14</th>\n",
        "      <th>15</th>\n",
        "      <th>16</th>\n",
        "      <th>17</th>\n",
        "      <th>18</th>\n",
        "      <th>19</th>\n",
        "      <th></th>\n",
        "    </tr>\n",
        "  </thead>\n",
        "  <tbody>\n",
        "    <tr>\n",
        "      <th>0</th>\n",
        "      <td> 0.299403</td>\n",
        "      <td>-1.226624</td>\n",
        "      <td> 1.498425</td>\n",
        "      <td>-1.176150</td>\n",
        "      <td> 5.289853</td>\n",
        "      <td> 0.208297</td>\n",
        "      <td> 2.404498</td>\n",
        "      <td> 1.594506</td>\n",
        "      <td>-0.051608</td>\n",
        "      <td> 0.663234</td>\n",
        "      <td>-1.408370</td>\n",
        "      <td> 1.114744</td>\n",
        "      <td>  0.910415</td>\n",
        "      <td> 2.218110</td>\n",
        "      <td> 4.305643</td>\n",
        "      <td> 0.088924</td>\n",
        "      <td> 0.169149</td>\n",
        "      <td> 0.413448</td>\n",
        "      <td> 1.513862</td>\n",
        "      <td> 2.662967</td>\n",
        "      <td>...</td>\n",
        "    </tr>\n",
        "    <tr>\n",
        "      <th>1</th>\n",
        "      <td>-1.174176</td>\n",
        "      <td> 0.332157</td>\n",
        "      <td> 0.949919</td>\n",
        "      <td>-1.285328</td>\n",
        "      <td> 2.199061</td>\n",
        "      <td>-0.151268</td>\n",
        "      <td>-0.427039</td>\n",
        "      <td> 2.619246</td>\n",
        "      <td>-0.765884</td>\n",
        "      <td>-0.093780</td>\n",
        "      <td> 0.935347</td>\n",
        "      <td> 1.057796</td>\n",
        "      <td> -0.539275</td>\n",
        "      <td>-0.172662</td>\n",
        "      <td>-0.679051</td>\n",
        "      <td> 0.607362</td>\n",
        "      <td> 1.148635</td>\n",
        "      <td> 2.437077</td>\n",
        "      <td>-0.313069</td>\n",
        "      <td> 0.528104</td>\n",
        "      <td>...</td>\n",
        "    </tr>\n",
        "    <tr>\n",
        "      <th>2</th>\n",
        "      <td> 1.192222</td>\n",
        "      <td>-0.414371</td>\n",
        "      <td> 0.067054</td>\n",
        "      <td>-2.233568</td>\n",
        "      <td> 3.658881</td>\n",
        "      <td> 0.089007</td>\n",
        "      <td> 0.203439</td>\n",
        "      <td>-4.219054</td>\n",
        "      <td>-1.184919</td>\n",
        "      <td>-1.240310</td>\n",
        "      <td>-0.890270</td>\n",
        "      <td> 0.909969</td>\n",
        "      <td>-11.851312</td>\n",
        "      <td> 3.352420</td>\n",
        "      <td>-4.862125</td>\n",
        "      <td>-0.903317</td>\n",
        "      <td>-1.824344</td>\n",
        "      <td> 0.045446</td>\n",
        "      <td>-2.126474</td>\n",
        "      <td> 1.161563</td>\n",
        "      <td>...</td>\n",
        "    </tr>\n",
        "    <tr>\n",
        "      <th>3</th>\n",
        "      <td> 1.573270</td>\n",
        "      <td>-0.580318</td>\n",
        "      <td>-0.866332</td>\n",
        "      <td>-0.603812</td>\n",
        "      <td> 3.125716</td>\n",
        "      <td> 0.870321</td>\n",
        "      <td>-0.161992</td>\n",
        "      <td> 4.499666</td>\n",
        "      <td> 1.038741</td>\n",
        "      <td>-1.092716</td>\n",
        "      <td>-0.713474</td>\n",
        "      <td>-0.136399</td>\n",
        "      <td>  0.058990</td>\n",
        "      <td>-1.083458</td>\n",
        "      <td> 1.622659</td>\n",
        "      <td>-1.685582</td>\n",
        "      <td>-1.222879</td>\n",
        "      <td>-0.215834</td>\n",
        "      <td> 0.155612</td>\n",
        "      <td> 0.627873</td>\n",
        "      <td>...</td>\n",
        "    </tr>\n",
        "    <tr>\n",
        "      <th>4</th>\n",
        "      <td>-0.613071</td>\n",
        "      <td>-0.644204</td>\n",
        "      <td> 1.112558</td>\n",
        "      <td>-0.032397</td>\n",
        "      <td> 3.490142</td>\n",
        "      <td>-0.011935</td>\n",
        "      <td> 1.443521</td>\n",
        "      <td>-4.290282</td>\n",
        "      <td>-1.761308</td>\n",
        "      <td> 0.807652</td>\n",
        "      <td>-0.416575</td>\n",
        "      <td> 0.433862</td>\n",
        "      <td>-12.822821</td>\n",
        "      <td>-0.048248</td>\n",
        "      <td>-5.031497</td>\n",
        "      <td>-0.704413</td>\n",
        "      <td> 0.515952</td>\n",
        "      <td>-2.635899</td>\n",
        "      <td>-2.359881</td>\n",
        "      <td>-0.053400</td>\n",
        "      <td>...</td>\n",
        "    </tr>\n",
        "  </tbody>\n",
        "</table>\n",
        "<p>5 rows \u00d7 40 columns</p>\n",
        "</div>"
       ],
       "metadata": {},
       "output_type": "pyout",
       "prompt_number": 15,
       "text": [
        "         0         1         2         3         4         5         6   \\\n",
        "0  0.299403 -1.226624  1.498425 -1.176150  5.289853  0.208297  2.404498   \n",
        "1 -1.174176  0.332157  0.949919 -1.285328  2.199061 -0.151268 -0.427039   \n",
        "2  1.192222 -0.414371  0.067054 -2.233568  3.658881  0.089007  0.203439   \n",
        "3  1.573270 -0.580318 -0.866332 -0.603812  3.125716  0.870321 -0.161992   \n",
        "4 -0.613071 -0.644204  1.112558 -0.032397  3.490142 -0.011935  1.443521   \n",
        "\n",
        "         7         8         9         10        11         12        13  \\\n",
        "0  1.594506 -0.051608  0.663234 -1.408370  1.114744   0.910415  2.218110   \n",
        "1  2.619246 -0.765884 -0.093780  0.935347  1.057796  -0.539275 -0.172662   \n",
        "2 -4.219054 -1.184919 -1.240310 -0.890270  0.909969 -11.851312  3.352420   \n",
        "3  4.499666  1.038741 -1.092716 -0.713474 -0.136399   0.058990 -1.083458   \n",
        "4 -4.290282 -1.761308  0.807652 -0.416575  0.433862 -12.822821 -0.048248   \n",
        "\n",
        "         14        15        16        17        18        19      \n",
        "0  4.305643  0.088924  0.169149  0.413448  1.513862  2.662967 ...  \n",
        "1 -0.679051  0.607362  1.148635  2.437077 -0.313069  0.528104 ...  \n",
        "2 -4.862125 -0.903317 -1.824344  0.045446 -2.126474  1.161563 ...  \n",
        "3  1.622659 -1.685582 -1.222879 -0.215834  0.155612  0.627873 ...  \n",
        "4 -5.031497 -0.704413  0.515952 -2.635899 -2.359881 -0.053400 ...  \n",
        "\n",
        "[5 rows x 40 columns]"
       ]
      }
     ],
     "prompt_number": 15
    },
    {
     "cell_type": "code",
     "collapsed": false,
     "input": [
      "train_x = np.asarray(trainset)\n",
      "train_y = np.asarray(labels).ravel()\n",
      "test_x = np.asarray(testset)\n",
      "print train_x.shape, test_x.shape, train_y.shape"
     ],
     "language": "python",
     "metadata": {},
     "outputs": [
      {
       "output_type": "stream",
       "stream": "stdout",
       "text": [
        "(1000, 40) (9000, 40) (1000,)\n"
       ]
      }
     ],
     "prompt_number": 23
    },
    {
     "cell_type": "markdown",
     "metadata": {},
     "source": [
      "# LR - Logistic Regression "
     ]
    },
    {
     "cell_type": "markdown",
     "metadata": {},
     "source": [
      "## train"
     ]
    },
    {
     "cell_type": "code",
     "collapsed": false,
     "input": [
      "from sklearn.linear_model import LogisticRegression as LR\n",
      "\n",
      "model = LR()\n",
      "\n",
      "model.fit(train_x, train_y)\n",
      "\n",
      "print 'Coefficients :\\n', model.coef_\n",
      "\n"
     ],
     "language": "python",
     "metadata": {},
     "outputs": [
      {
       "output_type": "stream",
       "stream": "stdout",
       "text": [
        "Coefficients :\n",
        "[[-0.06598664 -0.08087449 -0.04018864  0.0764633   0.12816292 -0.02204166\n",
        "  -0.06278182  0.03710325  0.0201234   0.2067826  -0.05507623 -0.02176481\n",
        "   0.25043965  0.11163918  0.38969117 -0.15880279  0.02496347 -0.09063701\n",
        "   0.05244381  0.08396154 -0.10670486 -0.12677064  0.11409543 -0.08495512\n",
        "   0.02998219 -0.12561784  0.15851439 -0.14054563 -0.07928655 -0.10033884\n",
        "  -0.09919122 -0.01620108 -0.18767118 -0.19442094  0.31074249  0.0268482\n",
        "  -0.1834334   0.15478249 -0.15769879  0.45317333]]\n"
       ]
      }
     ],
     "prompt_number": 24
    },
    {
     "cell_type": "markdown",
     "metadata": {},
     "source": [
      "##  predict "
     ]
    },
    {
     "cell_type": "code",
     "collapsed": false,
     "input": [
      "test_y = model.predict(test_x)\n",
      "\n",
      "print test_y"
     ],
     "language": "python",
     "metadata": {},
     "outputs": [
      {
       "output_type": "stream",
       "stream": "stdout",
       "text": [
        "[1 0 1 ..., 1 0 1]\n"
       ]
      }
     ],
     "prompt_number": 32
    },
    {
     "cell_type": "markdown",
     "metadata": {},
     "source": [
      "## save"
     ]
    },
    {
     "cell_type": "code",
     "collapsed": false,
     "input": [
      "test_y_df = pandas.DataFrame(dict(Id = np.arange(1, test_y.shape[0]+1), Solution=test_y))\n",
      "test_y_df.to_csv(r\"/Users/haoyuanhu/Project/tmall-com/rs_label.csv\",  header = True, index=False)"
     ],
     "language": "python",
     "metadata": {},
     "outputs": []
    },
    {
     "cell_type": "markdown",
     "metadata": {},
     "source": [
      "# SVM"
     ]
    },
    {
     "cell_type": "code",
     "collapsed": false,
     "input": [],
     "language": "python",
     "metadata": {},
     "outputs": []
    }
   ],
   "metadata": {}
  }
 ]
}